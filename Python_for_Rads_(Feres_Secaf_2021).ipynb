{
  "nbformat": 4,
  "nbformat_minor": 0,
  "metadata": {
    "colab": {
      "name": "Python for Rads (Feres Secaf 2021).ipynb",
      "private_outputs": true,
      "provenance": [],
      "collapsed_sections": [],
      "authorship_tag": "ABX9TyMYf7IZ1MIJbO/3kUxemiVE",
      "include_colab_link": true
    },
    "kernelspec": {
      "name": "python3",
      "display_name": "Python 3"
    },
    "language_info": {
      "name": "python"
    }
  },
  "cells": [
    {
      "cell_type": "markdown",
      "metadata": {
        "id": "view-in-github",
        "colab_type": "text"
      },
      "source": [
        "<a href=\"https://colab.research.google.com/github/paulokuriki/feres_python_2021/blob/main/Python_for_Rads_(Feres_Secaf_2021).ipynb\" target=\"_parent\"><img src=\"https://colab.research.google.com/assets/colab-badge.svg\" alt=\"Open In Colab\"/></a>"
      ]
    },
    {
      "cell_type": "markdown",
      "metadata": {
        "id": "yxr4Ts8l8LpW"
      },
      "source": [
        "# Feres Secaf 2021 **Online**\n",
        "\n",
        "<img src=\"https://raw.githubusercontent.com/paulokuriki/feres_python_2021/main/banner_feres.png\">"
      ]
    },
    {
      "cell_type": "markdown",
      "metadata": {
        "id": "9-3seVlqIcw1"
      },
      "source": [
        "---\n",
        "# Dr. Paulo Kuriki\n",
        "### Neurorradiologista pela UNIFESP/EPM\n",
        "### Neurorradiologista na DASA e CURA\n",
        "### Médico Especialista em AI no DASA INOVA\n",
        "\n",
        "<i>Não há conflito de interesse nesta apresentação</i>\n",
        "<i>There is no conflict of interest in this presentation</i>\n",
        "\n",
        "\n",
        "---\n"
      ]
    },
    {
      "cell_type": "markdown",
      "metadata": {
        "id": "_Bm92J8cyo38"
      },
      "source": [
        "# **Introdução ao Python para Radiologistas**\n",
        "\n",
        "<img src=\"https://raw.githubusercontent.com/paulokuriki/feres_python_2021/main/python.png\">"
      ]
    },
    {
      "cell_type": "markdown",
      "metadata": {
        "id": "CDZ2wUiu92zn"
      },
      "source": [
        "\n",
        "\n",
        "---\n",
        "\n"
      ]
    },
    {
      "cell_type": "markdown",
      "metadata": {
        "id": "Pa1YFHG89Lg5"
      },
      "source": [
        "# **Por que aprender Python?**\n",
        "\n",
        "1.   Linguagem de programação fácil de aprender\n",
        "\n",
        "2.   Principal linguagem utilizada em AI\n",
        "\n",
        "3.   Várias bibliotecas prontas para uso na radiologia\n",
        "\n",
        "4.   Open Source\n",
        "\n",
        "5.   Portabilidade: Windows, Mac, Linux\n",
        "\n",
        "6. Criar seu próprio DICOM VIEWER"
      ]
    },
    {
      "cell_type": "markdown",
      "metadata": {
        "id": "BwDK3PPaBSZ9"
      },
      "source": [
        "<img src=\"https://raw.githubusercontent.com/paulokuriki/feres_python_2021/main/code.jpg\">"
      ]
    },
    {
      "cell_type": "markdown",
      "metadata": {
        "id": "aIxSDNn6A6fl"
      },
      "source": [
        "# **Por onde começar?**\n",
        "\n",
        "*   Programar na web no **Google Colab** - [colab.research.google.com](https://colab.research.google.com/)\n",
        "*   Rodar um **Jupyter Notebook** - [anaconda.com](https://www.anaconda.com/products/individual)\n",
        "*   Executar **Python** na sua máquina - [python.org](https://www.python.org/downloads/)\n"
      ]
    },
    {
      "cell_type": "markdown",
      "metadata": {
        "id": "YBwH120GEyOD"
      },
      "source": [
        "<img src=\"https://raw.githubusercontent.com/paulokuriki/feres_python_2021/main/logo_jupyter.png\">"
      ]
    },
    {
      "cell_type": "markdown",
      "metadata": {
        "id": "kB8bjfWhCpzl"
      },
      "source": [
        "---"
      ]
    },
    {
      "cell_type": "markdown",
      "metadata": {
        "id": "17ncLmE-EAzi"
      },
      "source": [
        "# **Mãos no código!**\n",
        "\n",
        "### A função **`print()`** exibe uma informação na tela:\n",
        "\n",
        "Exemplo: **`print(100)`**"
      ]
    },
    {
      "cell_type": "code",
      "metadata": {
        "id": "QN7j5GWvH9Yw"
      },
      "source": [
        "# executando a função print() com o valor 100\n",
        "print(100)"
      ],
      "execution_count": null,
      "outputs": []
    },
    {
      "cell_type": "code",
      "metadata": {
        "id": "aSxnrD4oH9-u"
      },
      "source": [
        "# passando uma operação matemática para a função print()\n",
        "print(100 + 200)"
      ],
      "execution_count": null,
      "outputs": []
    },
    {
      "cell_type": "markdown",
      "metadata": {
        "id": "NmwPo40KIdSq"
      },
      "source": [
        "# **Variáveis e Tipos de Dados**\n",
        "\n",
        "### **Variável** é um espaço na memória no computador, que tem um nome e armazena um valor.\n",
        "\n",
        "Exemplos: \n",
        "\n",
        "`ano = 2020`\n",
        "\n",
        "`peso = 80`\n",
        "\n",
        "### O **Python** é *case sensitive*, ou seja, `nome` e `Nome` são variáveis diferentes. Por isso é aconselhável sempre nomear as variáveis em *minúsculo*.\n",
        "\n",
        "Os valores armazenados nas variáveis têm tipos. Alguns exemplos:\n",
        "\n",
        "- Texto: string\n",
        "- Número: integer, float, complex\n",
        "- Sequências: list, tuple\n",
        "- Mapping: dict"
      ]
    },
    {
      "cell_type": "code",
      "metadata": {
        "id": "PnkqTHIuIZJV"
      },
      "source": [
        "# designando valores numéricos para variáveis\n",
        "ano = 2020\n",
        "ano_nasc = 1979\n",
        "idade = ano - ano_nasc\n",
        "\n",
        "# exibe a idade calculada\n",
        "print(idade)"
      ],
      "execution_count": null,
      "outputs": []
    },
    {
      "cell_type": "code",
      "metadata": {
        "id": "MoFPDjjSJOwr"
      },
      "source": [
        "# designando textos para variáveis\n",
        "nome = \"Paulo\"\n",
        "sobrenome = 'Kuriki'\n",
        "nome_completo = nome + sobrenome\n",
        "\n",
        "print(nome_completo, idade)\n",
        "# Caso o nome completo tenha ficado sem espaço, como você resolveria esse problema?"
      ],
      "execution_count": null,
      "outputs": []
    },
    {
      "cell_type": "markdown",
      "metadata": {
        "id": "a-XKLb1aJWyg"
      },
      "source": [
        "# **Cláusulas condicionais**\n",
        "\n",
        "Através da declaração `if`, é possível definir condições.\n",
        "\n",
        "Exemplo:\n",
        "\n",
        "`if condição:`\n",
        "\n",
        "> `executa tarefas positivas`\n",
        "\n",
        "> `executa tarefas positivas`\n",
        "\n",
        "> `executa tarefas positivas`\n",
        "\n",
        "`else:`\n",
        "\n",
        "> `executa tarefas negativas`\n",
        "\n",
        "> `executa tarefas negativas`\n",
        "\n",
        "> `executa tarefas negativas`\n",
        "\n",
        "*O **Python** agrupa os blocos de cada condicional pela indentação.*\n"
      ]
    },
    {
      "cell_type": "code",
      "metadata": {
        "id": "8iZxgEHyJQuJ"
      },
      "source": [
        "ano = 2020\n",
        "ano_nasc = 2000\n",
        "idade = ano - ano_nasc\n",
        "\n",
        "# avalia se é maior de idade\n",
        "if idade >= 18:\n",
        "    print(idade, \"Você é maior de idade. Pode comprar cerveja.\")\n",
        "else:\n",
        "    print(idade, \"Você é menor de idade. Vá beber leite.\")\n",
        "# mude a data de nascimento e execute novamente"
      ],
      "execution_count": null,
      "outputs": []
    },
    {
      "cell_type": "markdown",
      "metadata": {
        "id": "qH2AAA4DJjXQ"
      },
      "source": [
        "# **Sequências**\n",
        "\n",
        "Sequências são conjuntos de dados que podem agrupados.\n",
        "\n",
        "Existem vários tipos de sequências, como: \n",
        "*   `listas`\n",
        "*   `tuplas`\n",
        "*   `sets`\n",
        "*   `dicionários`"
      ]
    },
    {
      "cell_type": "code",
      "metadata": {
        "id": "Qywh5h7UJlRa"
      },
      "source": [
        "# cria uma lista de tipos de exames\n",
        "exames = [\"RM de Crânio\", \"RM da Coluna Cervical\", \"RM da Coluna Torácica\", \"RM da Columa Lombar\"]\n",
        "\n",
        "print(exames)"
      ],
      "execution_count": null,
      "outputs": []
    },
    {
      "cell_type": "markdown",
      "metadata": {
        "id": "vGcFJtnUJw36"
      },
      "source": [
        "# **Loops**\n",
        "\n",
        "Loops servem para repetir determinadas ações. Os principais tipos de loops em Python são o `for` e o `while`\n",
        "\n",
        "`for`: Serve para iterar por uma sequência, como por exemplo, uma `lista`.\n",
        "\n",
        "`while`: Executa um loop enquanto uma condição for atendida. \n"
      ]
    },
    {
      "cell_type": "code",
      "metadata": {
        "id": "lsXZFaFhJtwk"
      },
      "source": [
        "# ---- Usando o FOR para iterar por uma lista ---- \n",
        "\n",
        "# cria uma lista de tipos de exames\n",
        "exames = [\"RM de Crânio\", \"RM da Coluna Cervical\", \"RM da Coluna Torácica\", \"RM da Columa Lombar\"]\n",
        "\n",
        "# loop do tipo FOR que executa uma iteração na lista exames\n",
        "for exame in exames:\n",
        "    print(\"Eu laudo:\", exame)"
      ],
      "execution_count": null,
      "outputs": []
    },
    {
      "cell_type": "code",
      "metadata": {
        "id": "-zqHB8-IJqiB"
      },
      "source": [
        "# ---- Usando o WHILE para executar o loop ---- \n",
        "\n",
        "# contagem regressiva\n",
        "numero = 5\n",
        "\n",
        "# loop do tipo WHILE executado enquanto a variável for maior do que zero\n",
        "while numero > 0:\n",
        "    print(\"Contagem:\", numero)\n",
        "    numero = numero - 1"
      ],
      "execution_count": null,
      "outputs": []
    },
    {
      "cell_type": "markdown",
      "metadata": {
        "id": "s0ngqizAzrPP"
      },
      "source": [
        "# Preparando o ambiente de testes"
      ]
    },
    {
      "cell_type": "code",
      "metadata": {
        "id": "fXkhxrnLWdsy"
      },
      "source": [
        "#@title Executar configuração do ambiente { vertical-output: true, display-mode: \"form\" }\n",
        "# No Google Colab, insira o símbolo ! para executar um comando do shell\n",
        "!pip install pydicom\n",
        "\n",
        "import platform\n",
        "\n",
        "if platform.system() == 'Windows':\n",
        "  !del *.dcm\n",
        "  !del *.jpg\n",
        "  !del torax*\n",
        "else:\n",
        "  !rm *.dcm\n",
        "  !rm *.jpg\n",
        "  !rm torax*\n",
        "\n",
        "# se necessário, baixe o wget para windows do endereco: https://eternallybored.org/misc/wget/1.20.3/64/wget.exe\n",
        "#!wget https://github.com/paulokuriki/feres_python_2021/raw/main/torax_1.dcm\n",
        "#!wget https://github.com/paulokuriki/feres_python_2021/raw/main/torax_2.dcm\n",
        "#!wget https://github.com/paulokuriki/feres_python_2021/raw/main/torax_3.dcm\n",
        "!wget https://github.com/paulokuriki/feres_python_2021/raw/main/torax.zip\n",
        "!unzip torax.zip\n",
        "\n",
        "\n",
        "print('\\n\\n----- AMBIENTE DE TESTES PREPARADO. -----')"
      ],
      "execution_count": null,
      "outputs": []
    },
    {
      "cell_type": "markdown",
      "metadata": {
        "id": "opwfKMXYZ5Kj"
      },
      "source": [
        "# **Arquivos DICOM no Python**\n",
        "\n",
        "O Python dispõe de duas bibliotecas para tratamento de arquivos e transmissões DICOM\n",
        "\n",
        "`pydicom`: Utilizada para abrir arquivos DICOM, ler metadados e carregar imagens.\n",
        "\n",
        "`pynetdicom`: Utilizada para realizar os métodos DICOM C-FIND, C-MOVE, C-GET permitindo fazer queries no PACS e fazer transmissões de arquivos DICOM"
      ]
    },
    {
      "cell_type": "markdown",
      "metadata": {
        "id": "iwgqvImGaCwN"
      },
      "source": [
        "# **Carregando imagens DICOM**\n",
        "\n",
        "1.  Importe as bibliotecas `pydicom` e `matplotlib`. \n",
        "2.  Abra o arquivo DICOM usando a função `pydicom.dcmread(nome_do_arquivo)`.\n",
        "3.  A matriz da imagem pode ser acessada pela propridade `pixel_array`.\n",
        "4.  Carregue no módulo `pyplot` do `matplotlib` o `pixel_array` do DICOM.\n",
        "5.  Exiba a imagem utilizando a função `show()`.\n"
      ]
    },
    {
      "cell_type": "code",
      "metadata": {
        "id": "K9Qc3NElMWrD"
      },
      "source": [
        "import pydicom\n",
        "from matplotlib import pyplot\n",
        "\n",
        "# define variável com o caminho completo para o arquivo DICOM\n",
        "var_arq_dicom = \"00000070.dcm\"\n",
        "\n",
        "# lê o arquivo DICOM utilizando a função dcmread\n",
        "dataset = pydicom.dcmread(var_arq_dicom)\n",
        "\n",
        "# carrega o pixel_array da imagem no pyplot e exibe a imagem \n",
        "pyplot.imshow(dataset.pixel_array, cmap=pyplot.cm.gray)\n",
        "pyplot.show()\n"
      ],
      "execution_count": null,
      "outputs": []
    },
    {
      "cell_type": "markdown",
      "metadata": {
        "id": "1w11Am3TaFA3"
      },
      "source": [
        "# **Exibindo as Tags DICOM**\n",
        "\n",
        "1.  Abra o arquivo DICOM usando a função `pydicom.dcmread(nome_do_arquivo)`.\n",
        "2.  Leia as Tag DICOM podem ser acessadas como propriedades do objeto dataset\n",
        "\n",
        "Exemplo: `print(dataset.PatientAge)`\n"
      ]
    },
    {
      "cell_type": "code",
      "metadata": {
        "id": "FBlvPXsdaGyN"
      },
      "source": [
        "# variável com o caminho completo para o arquivo DICOM\n",
        "var_arq_dicom = \"00000070.dcm\"\n",
        "\n",
        "# lê o arquivo DICOM utilizando a função dcmread\n",
        "dataset = pydicom.dcmread(var_arq_dicom)\n",
        "\n",
        "print (\"Idade:\",  dataset.PatientAge)\n",
        "print (\"Acc Number:\", dataset.AccessionNumber)\n",
        "print (\"Nome da série:\", dataset.SeriesDescription)\n",
        "print (\"Data da Aquisição:\", dataset.AcquisitionDate)\n"
      ],
      "execution_count": null,
      "outputs": []
    },
    {
      "cell_type": "markdown",
      "metadata": {
        "id": "7GJ1CKpfaJFw"
      },
      "source": [
        "# **Lendo todos os arquivos DICOM de uma pasta**\n",
        "\n",
        "1. Importe a biblioteca `glob` para criar uma lista com todos os arquivos dentro de uma determinada pasta. Se necessário, utilize o parâmetro `recursive=True`, para que ele inclua pastas dentro de pastas.\n",
        "2. Utilize os códigos acima como modelo e insira dentro de um loop for para exibir as informações de cada arquivo DICOM."
      ]
    },
    {
      "cell_type": "code",
      "metadata": {
        "id": "-nRzCcJbaK6_"
      },
      "source": [
        "import glob\n",
        "\n",
        "# define a pasta inicial que será vasculhada. Define que serão procurados os arquivos com extensão .dcm\n",
        "var_arquivos = \"*.dcm\"\n",
        "\n",
        "# o objeto glob cria uma lista com o nome de todos os arquivos encontrados que atendam o filtro informado no parâmetro. \n",
        "lista_dicom_files = glob.glob(var_arquivos, recursive=True)\n",
        "\n",
        "# loop para cada arquivo DICOM encontrado na lista criada pelo objeto glob\n",
        "for var_arq_dicom in lista_dicom_files[0:3]:\n",
        "    dataset = pydicom.dcmread(var_arq_dicom)\n",
        "    print(var_arq_dicom)\n",
        "    print (\"Idade:\",  dataset.PatientAge)\n",
        "    print (\"Acc Number:\", dataset.AccessionNumber)\n",
        "    print (\"Nome da série:\", dataset.SeriesDescription)\n",
        "    print (\"Data da Aquisição:\", dataset.AcquisitionDate)\n",
        "\n",
        "    pyplot.imshow(dataset.pixel_array, cmap=pyplot.cm.gray)\n",
        "    pyplot.show()"
      ],
      "execution_count": null,
      "outputs": []
    },
    {
      "cell_type": "markdown",
      "metadata": {
        "id": "aUSXn48p6pXf"
      },
      "source": [
        "# **Criando nosso Python DICOM Viwer**"
      ]
    },
    {
      "cell_type": "code",
      "metadata": {
        "id": "8HgFP2Tl6TPy"
      },
      "source": [
        "import pydicom\n",
        "import glob\n",
        "\n",
        "# define a pasta inicial que será vasculhada. Define que serão procurados os arquivos com extensão .dcm\n",
        "var_pasta = \"*.dcm\"\n",
        "# o objeto glob cria uma lista com o nome de todos os arquivos encontrados que atendam o filtro informado no parâmetro. \n",
        "lista_dicom_files = sorted(glob.glob(var_pasta))\n",
        "\n",
        "dicom_images_list = []\n",
        "# loop para cada arquivo DICOM encontrado na lista criada pelo objeto glob\n",
        "for var_arq_dicom in lista_dicom_files:\n",
        "    # le o arquivo DICOM e armazena num objeto pydicom.Dataset\n",
        "    ds = pydicom.dcmread(var_arq_dicom)\n",
        "\n",
        "    # le o slope e o intercept e converte para unidades Hounsfield\n",
        "    slope = float(ds.RescaleSlope)\n",
        "    intercept = float(ds.RescaleIntercept)\n",
        "    img_pixel_array = intercept + ds.pixel_array * slope\n",
        "    dicom_images_list.append({'filename': var_arq_dicom, 'pixel_array': img_pixel_array})\n",
        "\n",
        "print(f'{len(dicom_images_list)} arquivos encontrados.')"
      ],
      "execution_count": null,
      "outputs": []
    },
    {
      "cell_type": "code",
      "metadata": {
        "id": "G-gjZQzG7gip"
      },
      "source": [
        "import matplotlib.pyplot as plt\n",
        "\n",
        "def show_image(window_level, window_width, scroll, zoom, predefined_window, save_to_file):\n",
        "\n",
        "    # caso o usuario tenha selecionado uma janela predefinida, carrega os valores desta janela\n",
        "    if predefined_window == 'lung':\n",
        "        window_level = -600\n",
        "        window_width = 1500\n",
        "    elif predefined_window == 'mediastinum':\n",
        "        window_level = 50\n",
        "        window_width = 350\n",
        "    elif predefined_window == 'bone':\n",
        "        window_level = 400\n",
        "        window_width = 1800\n",
        "\n",
        "    # calcula os valores minimos e máximos da janela \n",
        "    vmin = window_level - (window_width / 2)\n",
        "    vmax = window_level + (window_width / 2)\n",
        "\n",
        "     # define as propriedades da figura a ser carregada, incluindo a janela a ser utilizada\n",
        "    plt.figure(figsize=(zoom, zoom))\n",
        "    plt.axis('off')\n",
        "    img_pixel_array = dicom_images_list[scroll-1].get('pixel_array',0)\n",
        "    plt.imshow(img_pixel_array, vmin=vmin, vmax=vmax, cmap='gray')\n",
        "    \n",
        "    if save_to_file:\n",
        "        # define o nome do arquivo a ser exportado e salva a imagem no arquivo\n",
        "        var_arq_dicom = dicom_image_list.get('filename','noname.dcm')\n",
        "        var_nome_arq_jpg = var_arq_dicom.replace('.dcm', '.jpg')\n",
        "        plt.savefig(var_nome_arq_jpg)\n",
        "        print(f'Salvo para o arquivo: {var_nome_arq_jpg}')"
      ],
      "execution_count": null,
      "outputs": []
    },
    {
      "cell_type": "code",
      "metadata": {
        "id": "eHA_utB3zmu1"
      },
      "source": [
        "import ipywidgets as widgets\n",
        "from IPython.display import display\n",
        "from ipywidgets import interact\n",
        "\n",
        "total_images = len(dicom_images_list)\n",
        "\n",
        "# define o formulario com o janelamento\n",
        "window_level = widgets.IntSlider(value=-600, min=-1000, max=1000, step=1, description='Window Level:', continuous_update=True,\n",
        "    orientation='horizontal', readout=True, readout_format='d')\n",
        "window_width = widgets.IntSlider(value=1500, min=0, max=2000, step=1, description='Window Width:', continuous_update=True,\n",
        "    orientation='horizontal', readout=True, readout_format='d')\n",
        "scroll = widgets.IntSlider(value=54, min=1, max=total_images, step=1, description='Scroll:', continuous_update=True,\n",
        "    orientation='horizontal', readout=True, readout_format='d')\n",
        "zoom = widgets.IntSlider(value=10, min=1, max=10, step=1, description='Zoom:', continuous_update=True,\n",
        "    orientation='horizontal', readout=True, readout_format='d')\n",
        "predefined_window = [\"custom\", \"lung\", \"mediastinum\", \"bone\"]\n",
        "save_to_file = False \n",
        "\n",
        "print(f\"Slice: {scroll.value}     WL: {window_level.value}     WW: {window_width.value}     Zoom: {zoom.value}\")\n",
        "interact(show_image, window_level=window_level, window_width=window_width, scroll=scroll, zoom=zoom, predefined_window=predefined_window, save_to_file=save_to_file)"
      ],
      "execution_count": null,
      "outputs": []
    },
    {
      "cell_type": "markdown",
      "metadata": {
        "id": "ldeXw6MYlwuL"
      },
      "source": [
        "# **Referências**\n",
        "\n",
        "Atualmente, aprender Python está ao alcance de todos. Seguem algumas sugestões de sites pagos e gratuitos:\n",
        "\n",
        "https://www.codecademy.com/learn/learn-python-3\n",
        "\n",
        "https://realpython.com/start-here/\n",
        "\n",
        "https://www.learnpython.org/\n",
        "\n",
        "https://docs.python.org/3/tutorial/\n",
        "\n",
        "---\n",
        "\n",
        "Link dos Jupyter Notebooks utilizados na aula:\n",
        "\n",
        "https://github.com/paulokuriki/python_for_rads\n",
        "\n",
        "---\n",
        "\n",
        "Bons estudos,\n",
        "\n",
        "Paulo Kuriki\n",
        "\n",
        "[www.linkedin.com/in/paulokuriki](www.linkedin.com/in/paulokuriki)\n"
      ]
    },
    {
      "cell_type": "code",
      "metadata": {
        "id": "ZsYWE__71YyC"
      },
      "source": [
        ""
      ],
      "execution_count": null,
      "outputs": []
    }
  ]
}